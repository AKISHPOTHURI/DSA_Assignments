{
 "cells": [
  {
   "cell_type": "code",
   "execution_count": 2,
   "metadata": {},
   "outputs": [
    {
     "name": "stdout",
     "output_type": "stream",
     "text": [
      "Yes\n"
     ]
    }
   ],
   "source": [
    "# Python program to check for the sum condition to be satisfied\n",
    "\n",
    "def hasArrayTwoCandidates(A, arr_size, sum):\n",
    "    # sort the array\n",
    "    quickSort(A, 0, arr_size-1)\n",
    "    l = 0\n",
    "    r = arr_size-1\n",
    "\n",
    "    # traverse the array for the two elements\n",
    "    while l < r:\n",
    "        if (A[l] + A[r] == sum):\n",
    "            return 1\n",
    "        elif (A[l] + A[r] < sum):\n",
    "            l += 1\n",
    "        else:\n",
    "            r -= 1\n",
    "    return 0\n",
    "\n",
    "# Implementation of Quick Sort\n",
    "# A[] --> Array to be sorted\n",
    "# si --> Starting index\n",
    "# ei --> Ending index\n",
    "\n",
    "def quickSort(A, si, ei):\n",
    "    if si < ei:\n",
    "        pi = partition(A, si, ei)\n",
    "        quickSort(A, si, pi-1)\n",
    "        quickSort(A, pi + 1, ei)\n",
    "\n",
    "# Utility function for partitioning\n",
    "# the array(used in quick sort)\n",
    "\n",
    "def partition(A, si, ei):\n",
    "    x = A[ei]\n",
    "    i = (si - 1)\n",
    "    for j in range(si, ei):\n",
    "        if A[j] <= x:\n",
    "            i += 1\n",
    "            # This operation is used to swap two variables in Python\n",
    "            A[i], A[j] = A[j], A[i]\n",
    "\n",
    "    A[i + 1], A[ei] = A[ei], A[i + 1]\n",
    "    return i + 1\n",
    "\n",
    "# Driver program to test the functions\n",
    "A = [1, 4, 45, 6, 10, -8]\n",
    "n = 16\n",
    "if (hasArrayTwoCandidates(A, len(A), n)):\n",
    "    print(\"Yes\")\n",
    "else:\n",
    "    print(\"No\")\n",
    "\n",
    "# This code is contributed by __Devesh Agrawal__\n"
   ]
  },
  {
   "cell_type": "code",
   "execution_count": 4,
   "metadata": {},
   "outputs": [
    {
     "name": "stdout",
     "output_type": "stream",
     "text": [
      "{1: 0}\n",
      "{1: 0, 4: 1}\n",
      "{1: 0, 4: 1, 45: 2}\n",
      "{1: 0, 4: 1, 45: 2, 6: 3}\n",
      "Yes\n"
     ]
    }
   ],
   "source": [
    "# Python program to find if there are\n",
    "# two elements with given sum\n",
    "\n",
    "# function to check for the given sum\n",
    "# in the array\n",
    "\n",
    "\n",
    "def printPairs(arr, arr_size, sum):\n",
    "\n",
    "    # Create an empty hash map\n",
    "    # using an hashmap allows us to store the indices\n",
    "    hashmap = {}\n",
    "\n",
    "    for i in range(0, arr_size):\n",
    "        temp = sum-arr[i]\n",
    "        if (temp in hashmap):\n",
    "            print('Yes')\n",
    "            return\n",
    "        hashmap[arr[i]] = i\n",
    "        print(hashmap)\n",
    "    print(\"No\")\n",
    "\n",
    "\n",
    "# driver code\n",
    "A = [1, 4, 45, 6, 10, 8]\n",
    "n = 16\n",
    "printPairs(A, len(A), n)\n",
    "\n",
    "# This code will also work in case the array has the same number twice\n",
    "# and target is the sum of those numbers\n",
    "# Eg: Array = [4,6,4] Target = 8\n",
    "\n",
    "# This code is contributed by __Achyut Upadhyay__"
   ]
  },
  {
   "cell_type": "markdown",
   "metadata": {},
   "source": [
    "Given an array A[] of n numbers and another number x, the task is to check whether or not there exist two elements in A[] whose sum is exactly x."
   ]
  },
  {
   "cell_type": "code",
   "execution_count": 9,
   "metadata": {},
   "outputs": [
    {
     "name": "stdout",
     "output_type": "stream",
     "text": [
      "{4: 0}\n",
      "{4: 0, 5: 1}\n",
      "{4: 0, 5: 1, 8: 2}\n",
      "{4: 0, 5: 1, 8: 2, 9: 3}\n",
      "{4: 0, 5: 1, 8: 2, 9: 3, 10: 4}\n",
      "yes\n"
     ]
    }
   ],
   "source": [
    "def printPairs(arr,sum):\n",
    "    heap = {}\n",
    "    for i in range(len(arr)):\n",
    "        heap[arr[i]] = i\n",
    "        temp = sum - arr[i]\n",
    "        print(heap)\n",
    "        if temp in heap:\n",
    "            print('yes')\n",
    "            return\n",
    "    print('No')\n",
    "arr = [4,5,8,9,10]\n",
    "sum = 19\n",
    "printPairs(arr,sum)"
   ]
  },
  {
   "cell_type": "markdown",
   "metadata": {},
   "source": [
    "Given an array prices[] of length N, representing the prices of the stocks on different days, the task is to find the maximum profit possible by buying and selling the stocks on different days when at most one transaction is allowed."
   ]
  },
  {
   "cell_type": "code",
   "execution_count": 11,
   "metadata": {},
   "outputs": [
    {
     "name": "stdout",
     "output_type": "stream",
     "text": [
      "5\n"
     ]
    }
   ],
   "source": [
    "def maxProfit(prices, n):\n",
    "    buy = prices[0]\n",
    "    maxProfit = 0\n",
    "    for i in range(n):\n",
    "        if buy > prices[i]:\n",
    "            buy = prices[i]\n",
    "        elif (prices[i] - buy > maxProfit):\n",
    "            maxProfit = prices[i] - buy\n",
    "    return maxProfit\n",
    "\n",
    "# Driver code\n",
    "if __name__ == '__main__':\n",
    "\n",
    "    prices = [7, 1, 5, 6, 4]\n",
    "    n = len(prices)\n",
    "    max_profit = maxProfit(prices, n)\n",
    "    print(max_profit)"
   ]
  },
  {
   "cell_type": "markdown",
   "metadata": {},
   "source": [
    "Given an array of n elements that contains elements from 0 to n-1, with any of these numbers appearing any number of times. Find these repeating numbers in O(n) and use only constant memory space."
   ]
  },
  {
   "cell_type": "code",
   "execution_count": 13,
   "metadata": {},
   "outputs": [
    {
     "name": "stdout",
     "output_type": "stream",
     "text": [
      "Freq Map:  {1: 1, 6: 1, 5: 1, 2: 2, 3: 2}\n",
      "Duplicate elements: 2 3 \n"
     ]
    }
   ],
   "source": [
    "def duplicates(arr):\n",
    "    # Step 1: Create an empty dictionary to store element frequencies\n",
    "    freq_map = {}\n",
    "    result = []\n",
    "\n",
    "    # Step 2: Iterate through the array and count element frequencies\n",
    "    for num in arr:\n",
    "        freq_map[num] = freq_map.get(num, 0) + 1\n",
    "    print(\"Freq Map: \",freq_map)\n",
    "\n",
    "    # Step 3: Iterate through the dictionary to find duplicates\n",
    "    for key, value in freq_map.items():\n",
    "        if value > 1:\n",
    "            result.append(key)\n",
    "\n",
    "    # Step 4: If no duplicates found, add -1 to the result\n",
    "    if not result:\n",
    "        result.append(-1)\n",
    "    # Step 5: Sort the result\n",
    "    result.sort()\n",
    "    # Step 6: Return the result list containing duplicate elements or -1\n",
    "    return result\n",
    "\n",
    "if __name__ == \"__main__\":\n",
    "    a = [1, 6, 5, 2, 3, 3, 2]\n",
    "    duplicates_found = duplicates(a)\n",
    "    \n",
    "    print(\"Duplicate elements:\", end=\" \")\n",
    "    for element in duplicates_found:\n",
    "        print(element, end=\" \")\n",
    "    print()"
   ]
  },
  {
   "cell_type": "code",
   "execution_count": 17,
   "metadata": {},
   "outputs": [
    {
     "name": "stdout",
     "output_type": "stream",
     "text": [
      "2 3 "
     ]
    }
   ],
   "source": [
    "def findDuplicates(a):\n",
    "    freq = {}\n",
    "    dup_values = []\n",
    "    for num in a:\n",
    "        freq[num] = freq.get(num,0) + 1\n",
    "    \n",
    "    for key,value in freq.items():\n",
    "        if value > 1:\n",
    "            dup_values.append(key)\n",
    "    return dup_values\n",
    "\n",
    "if __name__ == '__main__':\n",
    "    a = [1, 6, 5, 2, 3, 3, 2]\n",
    "    duplicates_found = findDuplicates(a)\n",
    "    for ele in duplicates_found:\n",
    "        print(ele, end=\" \")"
   ]
  },
  {
   "cell_type": "markdown",
   "metadata": {},
   "source": [
    "# Pair with given Sum (Two Sum)\n",
    "\n",
    "Given an array arr[] of n integers and a target value, the task is to find whether there is a pair of elements in the array whose sum is equal to target. This problem is a variation of 2Sum problem.\n",
    "\n",
    "Examples: \n",
    "\n",
    "Input: arr[] = {0, -1, 2, -3, 1}, target = -2\n",
    "Output: True\n",
    "Explanation: If we calculate the sum of the output,1 + (-3) = -2\n",
    "\n",
    "\n",
    "Input: arr[] = {1, -2, 1, 0, 5}, target = 0\n",
    "Output: False"
   ]
  },
  {
   "cell_type": "code",
   "execution_count": 7,
   "metadata": {},
   "outputs": [
    {
     "name": "stdout",
     "output_type": "stream",
     "text": [
      "[-3, -1, 0, 1, 2]\n",
      "-1\n",
      "-2\n",
      "is the sum of -3 and 1\n"
     ]
    },
    {
     "data": {
      "text/plain": [
       "True"
      ]
     },
     "execution_count": 7,
     "metadata": {},
     "output_type": "execute_result"
    }
   ],
   "source": [
    "def pair_sum(arr,target):\n",
    "    arr.sort()\n",
    "    print(arr)\n",
    "\n",
    "    left, right = 0,len(arr)-1\n",
    "    while left < right:\n",
    "        sum = arr[left] + arr[right]\n",
    "        if sum == target:\n",
    "            print('is the sum of {0} and {1}'.format(arr[left],arr[right]))\n",
    "            return True\n",
    "        elif sum < target:\n",
    "            left = left+1\n",
    "        else:\n",
    "            right = right - 1       \n",
    "    return False\n",
    "\n",
    "target = -2\n",
    "arr = [0,-1,2,-3,1]\n",
    "pair_sum(arr,target)"
   ]
  },
  {
   "cell_type": "markdown",
   "metadata": {},
   "source": [
    "# Stock Buy and Sell – Max one Transaction Allowed\n",
    "\n",
    "\n",
    "Given an array prices[] of length N, representing the prices of the stocks on different days, the task is to find the maximum profit possible by buying and selling the stocks on different days when at most one transaction is allowed. Here one transaction means 1 buy + 1 Sell."
   ]
  },
  {
   "cell_type": "code",
   "execution_count": 11,
   "metadata": {},
   "outputs": [
    {
     "name": "stdout",
     "output_type": "stream",
     "text": [
      "8\n"
     ]
    }
   ],
   "source": [
    "def maxProfit(prices):\n",
    "    minSoFar = prices[0]\n",
    "    maxSoFar = 0\n",
    "\n",
    "    for i in range(1,len(prices)):\n",
    "        minSoFar = min(minSoFar,prices[i])\n",
    "        maxSoFar = max(maxSoFar,prices[i]-minSoFar)\n",
    "    return maxSoFar\n",
    "\n",
    "if __name__ == \"__main__\":\n",
    "    prices = [7, 10, 1, 3, 6, 9, 2]\n",
    "    print(maxProfit(prices))"
   ]
  },
  {
   "cell_type": "markdown",
   "metadata": {},
   "source": [
    "# Product of Array Except Self\n",
    "\n",
    "Given an array arr[] of n integers, construct a Product Array prod[] (of the same size) such that prod[i] is equal to the product of all the elements of arr[] except arr[i]."
   ]
  },
  {
   "cell_type": "code",
   "execution_count": 21,
   "metadata": {},
   "outputs": [
    {
     "data": {
      "text/plain": [
       "[180, 600, 360, 300, 900]"
      ]
     },
     "execution_count": 21,
     "metadata": {},
     "output_type": "execute_result"
    }
   ],
   "source": [
    "def productArray(arr):\n",
    "    p = 1\n",
    "    results = []\n",
    "    for i in range(len(arr)):\n",
    "        p = arr[i]*p\n",
    "    for j in range(len(arr)):\n",
    "        results.append(p//arr[j])\n",
    "    return results\n",
    "\n",
    "arr = [10, 3, 5, 6, 2]\n",
    "res = productArray(arr)\n",
    "res\n",
    "# print(\" \".join(map(str, res)))"
   ]
  },
  {
   "cell_type": "markdown",
   "metadata": {},
   "source": [
    "# Maximum Subarray Sum – Kadane’s Algorithm\n",
    "\n",
    "Given an array arr[], the task is to find the subarray that has the maximum sum and return its sum.\n",
    "\n",
    "Examples:\n",
    "\n",
    "Input: arr[] = {2, 3, -8, 7, -1, 2, 3}\n",
    "Output: 11\n",
    "Explanation: The subarray {7, -1, 2, 3} has the largest sum 11.\n",
    "\n",
    "\n",
    "Input: arr[] = {-2, -4}\n",
    "Output: –2\n",
    "Explanation: The subarray {-2} has the largest sum -2.\n",
    "\n",
    "\n",
    "Input: arr[] = {5, 4, 1, 7, 8}\n",
    "Output: 25\n",
    "Explanation: The subarray {5, 4, 1, 7, 8} has the largest sum 25."
   ]
  },
  {
   "cell_type": "code",
   "execution_count": 22,
   "metadata": {},
   "outputs": [
    {
     "name": "stdout",
     "output_type": "stream",
     "text": [
      "11\n"
     ]
    }
   ],
   "source": [
    "\"\"\"\n",
    "Kadane's algo:\n",
    "The idea of Kadane’s algorithm is to traverse over the array from left to right and for each element, \n",
    "find the maximum sum among all subarrays ending at that element. The result will be the maximum of all these values.\n",
    "\n",
    "This means that maxEnding at index i = max(maxEnding at index (i-1) + arr[i], arr[i]) and\n",
    "the maximum value of maxEnding at any index will be our answer. \n",
    "\"\"\"\n",
    "\n",
    "def maxSubarraySum(arr):\n",
    "    res = arr[0]\n",
    "    maxupnow = arr[0]\n",
    "    for i in range(1,len(arr)):\n",
    "        maxupnow = max(maxupnow + arr[i],arr[i])\n",
    "        res = max(res, maxupnow)\n",
    "    return res\n",
    "\n",
    "arr = [2, 3, -8, 7, -1, 2, 3]\n",
    "print(maxSubarraySum(arr))"
   ]
  },
  {
   "cell_type": "code",
   "execution_count": null,
   "metadata": {},
   "outputs": [
    {
     "data": {
      "text/plain": [
       "[7, 3, 3, 2, 2, -1, -8]"
      ]
     },
     "execution_count": 2,
     "metadata": {},
     "output_type": "execute_result"
    }
   ],
   "source": [
    "# Sorting the Array\n",
    "# Selection sort\n",
    "def sort_array(arr):\n",
    "    for i in range(len(arr)):\n",
    "        min = i\n",
    "        for j in range(i+1,len(arr)-1):\n",
    "            if arr[j] < arr[min]:\n",
    "                min = j\n",
    "            arr[min],arr[j+1] = arr[j+1],arr[min]\n",
    "    return arr\n",
    "arr = [2, 3, -8, 7, -1, 2, 3]\n",
    "sort_array(arr)"
   ]
  },
  {
   "cell_type": "code",
   "execution_count": null,
   "metadata": {},
   "outputs": [],
   "source": []
  }
 ],
 "metadata": {
  "kernelspec": {
   "display_name": "venv",
   "language": "python",
   "name": "python3"
  },
  "language_info": {
   "codemirror_mode": {
    "name": "ipython",
    "version": 3
   },
   "file_extension": ".py",
   "mimetype": "text/x-python",
   "name": "python",
   "nbconvert_exporter": "python",
   "pygments_lexer": "ipython3",
   "version": "3.8.20"
  }
 },
 "nbformat": 4,
 "nbformat_minor": 2
}
