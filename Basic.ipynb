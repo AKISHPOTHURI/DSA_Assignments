{
 "cells": [
  {
   "cell_type": "code",
   "execution_count": null,
   "metadata": {},
   "outputs": [],
   "source": [
    "print(\"Akish\")"
   ]
  },
  {
   "cell_type": "code",
   "execution_count": null,
   "metadata": {},
   "outputs": [
    {
     "name": "stdout",
     "output_type": "stream",
     "text": [
      "Yes\n"
     ]
    }
   ],
   "source": [
    "# Python program to check for the sum condition to be satisfied\n",
    "def hasArrayTwoCandidates(A, arr_size, sum):\n",
    "    # sort the array\n",
    "    quickSort(A, 0, arr_size-1)\n",
    "    l = 0\n",
    "    r = arr_size-1\n",
    "\n",
    "    # traverse the array for the two elements\n",
    "    while l < r:\n",
    "        if (A[l] + A[r] == sum):\n",
    "            return 1\n",
    "        elif (A[l] + A[r] < sum):\n",
    "            l += 1\n",
    "        else:\n",
    "            r -= 1\n",
    "    return 0\n",
    "\n",
    "# Implementation of Quick Sort\n",
    "# A[] --> Array to be sorted\n",
    "# si --> Starting index\n",
    "# ei --> Ending index\n",
    "\n",
    "def quickSort(A, si, ei):\n",
    "    if si < ei:\n",
    "        pi = partition(A, si, ei)\n",
    "        quickSort(A, si, pi-1)\n",
    "        quickSort(A, pi + 1, ei)\n",
    "\n",
    "# Utility function for partitioning\n",
    "# the array(used in quick sort)\n",
    "\n",
    "def partition(A, si, ei):\n",
    "    x = A[ei]\n",
    "    i = (si - 1)\n",
    "    for j in range(si, ei):\n",
    "        if A[j] <= x:\n",
    "            i += 1\n",
    "            # This operation is used to swap two variables in Python\n",
    "            A[i], A[j] = A[j], A[i]\n",
    "\n",
    "    A[i + 1], A[ei] = A[ei], A[i + 1]\n",
    "    return i + 1\n",
    "\n",
    "# Driver program to test the functions\n",
    "A = [1, 4, 45, 6, 10, -8]\n",
    "n = 16\n",
    "if (hasArrayTwoCandidates(A, len(A), n)):\n",
    "    print(\"Yes\")\n",
    "else:\n",
    "    print(\"No\")\n",
    "\n",
    "# This code is contributed by __Devesh Agrawal__\n"
   ]
  },
  {
   "cell_type": "code",
   "execution_count": 1,
   "metadata": {},
   "outputs": [
    {
     "name": "stdout",
     "output_type": "stream",
     "text": [
      "{1: 0}\n",
      "{1: 0, 4: 1}\n",
      "{1: 0, 4: 1, 45: 2}\n",
      "{1: 0, 4: 1, 45: 2, 6: 3}\n",
      "Yes\n",
      "condition satisfied 6 10 = 16\n"
     ]
    }
   ],
   "source": [
    "# Python program to find if there are\n",
    "# two elements with given sum\n",
    "\n",
    "# function to check for the given sum\n",
    "# in the array\n",
    "def printPairs(arr, arr_size, sum):\n",
    "    # Create an empty hash map\n",
    "    # using an hashmap allows us to store the indices\n",
    "    hashmap = {}\n",
    "\n",
    "    for i in range(0, arr_size):\n",
    "        temp = sum-arr[i]\n",
    "        if (temp in hashmap):\n",
    "            print('Yes')\n",
    "            print(\"condition satisfied\",temp,arr[i],\"=\",temp+arr[i])\n",
    "            return\n",
    "        hashmap[arr[i]] = i\n",
    "        print(hashmap)\n",
    "    print(\"No\")\n",
    "\n",
    "\n",
    "# driver code\n",
    "A = [1, 4, 45, 6, 10, 8]\n",
    "n = 16\n",
    "printPairs(A, len(A), n)\n",
    "\n",
    "# This code will also work in case the array has the same number twice\n",
    "# and target is the sum of those numbers\n",
    "# Eg: Array = [4,6,4] Target = 8\n",
    "\n",
    "# This code is contributed by __Achyut Upadhyay__"
   ]
  },
  {
   "cell_type": "code",
   "execution_count": null,
   "metadata": {},
   "outputs": [
    {
     "name": "stdout",
     "output_type": "stream",
     "text": [
      "Yes 6 + 10 = 16\n"
     ]
    },
    {
     "data": {
      "text/plain": [
       "1"
      ]
     },
     "execution_count": 5,
     "metadata": {},
     "output_type": "execute_result"
    }
   ],
   "source": [
    "def printPairs(arr,array_size,sum):\n",
    "    hashmap = {}\n",
    "    count = 0\n",
    "    for i in range(array_size):\n",
    "        temp = sum - arr[i]\n",
    "        if temp in hashmap:\n",
    "            print(\"Yes\",temp,\"+\",arr[i],\"=\",sum)\n",
    "            hashmap[arr[i]] = i\n",
    "            count += 1\n",
    "        hashmap[arr[i]] = i\n",
    "        # print(hashmap)\n",
    "    return count if count > 0 else 'No Combination is equal to sum'\n",
    "        \n",
    "\n",
    "A = [1, 4, 45, 6, 10, 8]\n",
    "n = 16\n",
    "printPairs(A, len(A), n)"
   ]
  },
  {
   "cell_type": "markdown",
   "metadata": {},
   "source": [
    "Given an array A[] of n numbers and another number x, the task is to check whether or not there exist two elements in A[] whose sum is exactly x."
   ]
  },
  {
   "cell_type": "code",
   "execution_count": 9,
   "metadata": {},
   "outputs": [
    {
     "name": "stdout",
     "output_type": "stream",
     "text": [
      "{4: 0}\n",
      "{4: 0, 5: 1}\n",
      "{4: 0, 5: 1, 8: 2}\n",
      "{4: 0, 5: 1, 8: 2, 9: 3}\n",
      "{4: 0, 5: 1, 8: 2, 9: 3, 10: 4}\n",
      "yes\n"
     ]
    }
   ],
   "source": [
    "def printPairs(arr,sum):\n",
    "    heap = {}\n",
    "    for i in range(len(arr)):\n",
    "        heap[arr[i]] = i\n",
    "        temp = sum - arr[i]\n",
    "        print(heap)\n",
    "        if temp in heap:\n",
    "            print('yes')\n",
    "            return\n",
    "    print('No')\n",
    "arr = [4,5,8,9,10]\n",
    "sum = 19\n",
    "printPairs(arr,sum)"
   ]
  },
  {
   "cell_type": "markdown",
   "metadata": {},
   "source": [
    "Given an array prices[] of length N, representing the prices of the stocks on different days, the task is to find the maximum profit possible by buying and selling the stocks on different days when at most one transaction is allowed."
   ]
  },
  {
   "cell_type": "code",
   "execution_count": null,
   "metadata": {},
   "outputs": [
    {
     "name": "stdout",
     "output_type": "stream",
     "text": [
      "5\n"
     ]
    }
   ],
   "source": [
    "def maxProfit(prices, n):\n",
    "    buy = prices[0]\n",
    "    maxProfit = 0\n",
    "    for i in range(n):\n",
    "        if buy > prices[i]:\n",
    "            buy = prices[i]\n",
    "        elif (prices[i] - buy > maxProfit):\n",
    "            maxProfit = prices[i] - buy\n",
    "    return maxProfit\n",
    "\n",
    "# Driver code\n",
    "if __name__ == '__main__':\n",
    "    prices = [7, 1, 5, 6, 4]\n",
    "    n = len(prices)\n",
    "    max_profit = maxProfit(prices, n)\n",
    "    print(max_profit)"
   ]
  },
  {
   "cell_type": "markdown",
   "metadata": {},
   "source": [
    "Given an array of n elements that contains elements from 0 to n-1, with any of these numbers appearing any number of times. Find these repeating numbers in O(n) and use only constant memory space."
   ]
  },
  {
   "cell_type": "code",
   "execution_count": 13,
   "metadata": {},
   "outputs": [
    {
     "name": "stdout",
     "output_type": "stream",
     "text": [
      "Freq Map:  {1: 1, 6: 1, 5: 1, 2: 2, 3: 2}\n",
      "Duplicate elements: 2 3 \n"
     ]
    }
   ],
   "source": [
    "def duplicates(arr):\n",
    "    # Step 1: Create an empty dictionary to store element frequencies\n",
    "    freq_map = {}\n",
    "    result = []\n",
    "\n",
    "    # Step 2: Iterate through the array and count element frequencies\n",
    "    for num in arr:\n",
    "        freq_map[num] = freq_map.get(num, 0) + 1\n",
    "    print(\"Freq Map: \",freq_map)\n",
    "\n",
    "    # Step 3: Iterate through the dictionary to find duplicates\n",
    "    for key, value in freq_map.items():\n",
    "        if value > 1:\n",
    "            result.append(key)\n",
    "\n",
    "    # Step 4: If no duplicates found, add -1 to the result\n",
    "    if not result:\n",
    "        result.append(-1)\n",
    "    # Step 5: Sort the result\n",
    "    result.sort()\n",
    "    # Step 6: Return the result list containing duplicate elements or -1\n",
    "    return result\n",
    "\n",
    "if __name__ == \"__main__\":\n",
    "    a = [1, 6, 5, 2, 3, 3, 2]\n",
    "    duplicates_found = duplicates(a)\n",
    "    \n",
    "    print(\"Duplicate elements:\", end=\" \")\n",
    "    for element in duplicates_found:\n",
    "        print(element, end=\" \")\n",
    "    print()"
   ]
  },
  {
   "cell_type": "code",
   "execution_count": 17,
   "metadata": {},
   "outputs": [
    {
     "name": "stdout",
     "output_type": "stream",
     "text": [
      "2 3 "
     ]
    }
   ],
   "source": [
    "def findDuplicates(a):\n",
    "    freq = {}\n",
    "    dup_values = []\n",
    "    for num in a:\n",
    "        freq[num] = freq.get(num,0) + 1\n",
    "    \n",
    "    for key,value in freq.items():\n",
    "        if value > 1:\n",
    "            dup_values.append(key)\n",
    "    return dup_values\n",
    "\n",
    "if __name__ == '__main__':\n",
    "    a = [1, 6, 5, 2, 3, 3, 2]\n",
    "    duplicates_found = findDuplicates(a)\n",
    "    for ele in duplicates_found:\n",
    "        print(ele, end=\" \")"
   ]
  },
  {
   "cell_type": "markdown",
   "metadata": {},
   "source": [
    "# Pair with given Sum (Two Sum)\n",
    "\n",
    "Given an array arr[] of n integers and a target value, the task is to find whether there is a pair of elements in the array whose sum is equal to target. This problem is a variation of 2Sum problem.\n",
    "\n",
    "Examples: \n",
    "\n",
    "Input: arr[] = {0, -1, 2, -3, 1}, target = -2\n",
    "Output: True\n",
    "Explanation: If we calculate the sum of the output,1 + (-3) = -2\n",
    "\n",
    "\n",
    "Input: arr[] = {1, -2, 1, 0, 5}, target = 0\n",
    "Output: False"
   ]
  },
  {
   "cell_type": "code",
   "execution_count": 7,
   "metadata": {},
   "outputs": [
    {
     "name": "stdout",
     "output_type": "stream",
     "text": [
      "[-3, -1, 0, 1, 2]\n",
      "-1\n",
      "-2\n",
      "is the sum of -3 and 1\n"
     ]
    },
    {
     "data": {
      "text/plain": [
       "True"
      ]
     },
     "execution_count": 7,
     "metadata": {},
     "output_type": "execute_result"
    }
   ],
   "source": [
    "def pair_sum(arr,target):\n",
    "    arr.sort()\n",
    "    print(arr)\n",
    "\n",
    "    left, right = 0,len(arr)-1\n",
    "    while left < right:\n",
    "        sum = arr[left] + arr[right]\n",
    "        if sum == target:\n",
    "            print('is the sum of {0} and {1}'.format(arr[left],arr[right]))\n",
    "            return True\n",
    "        elif sum < target:\n",
    "            left = left+1\n",
    "        else:\n",
    "            right = right - 1       \n",
    "    return False\n",
    "\n",
    "target = -2\n",
    "arr = [0,-1,2,-3,1]\n",
    "pair_sum(arr,target)"
   ]
  },
  {
   "cell_type": "markdown",
   "metadata": {},
   "source": [
    "# Stock Buy and Sell – Max one Transaction Allowed\n",
    "\n",
    "\n",
    "Given an array prices[] of length N, representing the prices of the stocks on different days, the task is to find the maximum profit possible by buying and selling the stocks on different days when at most one transaction is allowed. Here one transaction means 1 buy + 1 Sell."
   ]
  },
  {
   "cell_type": "code",
   "execution_count": 11,
   "metadata": {},
   "outputs": [
    {
     "name": "stdout",
     "output_type": "stream",
     "text": [
      "8\n"
     ]
    }
   ],
   "source": [
    "def maxProfit(prices):\n",
    "    minSoFar = prices[0]\n",
    "    maxSoFar = 0\n",
    "\n",
    "    for i in range(1,len(prices)):\n",
    "        minSoFar = min(minSoFar,prices[i])\n",
    "        maxSoFar = max(maxSoFar,prices[i]-minSoFar)\n",
    "    return maxSoFar\n",
    "\n",
    "if __name__ == \"__main__\":\n",
    "    prices = [7, 10, 1, 3, 6, 9, 2]\n",
    "    print(maxProfit(prices))"
   ]
  },
  {
   "cell_type": "code",
   "execution_count": 6,
   "metadata": {},
   "outputs": [
    {
     "name": "stdout",
     "output_type": "stream",
     "text": [
      "8\n"
     ]
    }
   ],
   "source": [
    "def max_profit(prices):\n",
    "    max_amount = 0\n",
    "    buy = prices[0]\n",
    "    for i in range(1,len(prices)):\n",
    "        if buy > prices[i]:\n",
    "            buy = prices[i]\n",
    "        elif (prices[i] - buy > max_amount):\n",
    "            max_amount = prices[i] - buy\n",
    "    return max_amount\n",
    "if __name__ == \"__main__\":\n",
    "    prices = [7, 10, 1, 3, 6, 9, 2]\n",
    "    print(max_profit(prices))"
   ]
  },
  {
   "cell_type": "markdown",
   "metadata": {},
   "source": [
    "# Product of Array Except Self\n",
    "\n",
    "Given an array arr[] of n integers, construct a Product Array prod[] (of the same size) such that prod[i] is equal to the product of all the elements of arr[] except arr[i]."
   ]
  },
  {
   "cell_type": "code",
   "execution_count": 21,
   "metadata": {},
   "outputs": [
    {
     "data": {
      "text/plain": [
       "[180, 600, 360, 300, 900]"
      ]
     },
     "execution_count": 21,
     "metadata": {},
     "output_type": "execute_result"
    }
   ],
   "source": [
    "def productArray(arr):\n",
    "    p = 1\n",
    "    results = []\n",
    "    for i in range(len(arr)):\n",
    "        p = arr[i]*p\n",
    "    for j in range(len(arr)):\n",
    "        results.append(p//arr[j])\n",
    "    return results\n",
    "\n",
    "arr = [10, 3, 5, 6, 2]\n",
    "res = productArray(arr)\n",
    "res\n",
    "# print(\" \".join(map(str, res)))"
   ]
  },
  {
   "cell_type": "markdown",
   "metadata": {},
   "source": [
    "# Maximum Subarray Sum – Kadane’s Algorithm\n",
    "\n",
    "Given an array arr[], the task is to find the subarray that has the maximum sum and return its sum.\n",
    "\n",
    "Examples:\n",
    "\n",
    "Input: arr[] = {2, 3, -8, 7, -1, 2, 3}\n",
    "Output: 11\n",
    "Explanation: The subarray {7, -1, 2, 3} has the largest sum 11.\n",
    "\n",
    "\n",
    "Input: arr[] = {-2, -4}\n",
    "Output: –2\n",
    "Explanation: The subarray {-2} has the largest sum -2.\n",
    "\n",
    "\n",
    "Input: arr[] = {5, 4, 1, 7, 8}\n",
    "Output: 25\n",
    "Explanation: The subarray {5, 4, 1, 7, 8} has the largest sum 25."
   ]
  },
  {
   "cell_type": "code",
   "execution_count": 12,
   "metadata": {},
   "outputs": [
    {
     "name": "stdout",
     "output_type": "stream",
     "text": [
      "11\n"
     ]
    }
   ],
   "source": [
    "\"\"\"\n",
    "Kadane's algo:\n",
    "The idea of Kadane’s algorithm is to traverse over the array from left to right and for each element, \n",
    "find the maximum sum among all subarrays ending at that element. The result will be the maximum of all these values.\n",
    "\n",
    "This means that maxEnding at index i = max(maxEnding at index (i-1) + arr[i], arr[i]) and\n",
    "the maximum value of maxEnding at any index will be our answer. \n",
    "\"\"\"\n",
    "\n",
    "def maxSubarraySum(arr):\n",
    "    res = arr[0]\n",
    "    maxupnow = arr[0]\n",
    "    for i in range(1,len(arr)):\n",
    "        maxupnow = max(maxupnow + arr[i],arr[i])\n",
    "        res = max(res, maxupnow)\n",
    "    return res\n",
    "\n",
    "arr = [2, 3, -8, 7, -1, 2, 3]\n",
    "print(maxSubarraySum(arr))"
   ]
  },
  {
   "cell_type": "code",
   "execution_count": null,
   "metadata": {},
   "outputs": [
    {
     "name": "stdout",
     "output_type": "stream",
     "text": [
      "[7, 3, 3, 2, 2, -1, -8]\n",
      "[233, 101, 75, 9, 5, 1]\n"
     ]
    }
   ],
   "source": [
    "def sort_array(arr):\n",
    "    for i in range(len(arr)):\n",
    "        max_idx = i  # Find max index instead of min for descending order\n",
    "        for j in range(i + 1, len(arr)):  # Correct loop range\n",
    "            if arr[j] > arr[max_idx]:  # Find the max element\n",
    "                max_idx = j\n",
    "        \n",
    "        # Swap after finding the maximum in this pass\n",
    "        arr[i], arr[max_idx] = arr[max_idx], arr[i]\n",
    "    return arr\n",
    "\n",
    "# Test Cases\n",
    "arr1 = [2, 3, -8, 7, -1, 2, 3]\n",
    "print(sort_array(arr1))  # Output: [7, 3, 3, 2, 2, -1, -8]\n",
    "\n",
    "arr2 = [5, 9, 1, 75, 101, 233]\n",
    "print(sort_array(arr2))  # Output: [233, 101, 75, 9, 5, 1]"
   ]
  },
  {
   "cell_type": "code",
   "execution_count": 29,
   "metadata": {},
   "outputs": [
    {
     "data": {
      "text/plain": [
       "[233, 101, 75, 9, 5, 1]"
      ]
     },
     "execution_count": 29,
     "metadata": {},
     "output_type": "execute_result"
    }
   ],
   "source": [
    "# Sorting the Array\n",
    "# Selection sort\n",
    "def sort_array(arr):\n",
    "    for i in range(len(arr)):\n",
    "        min_idx = i\n",
    "        for j in range(i+1,len(arr)):\n",
    "            if arr[j] > arr[min_idx]:\n",
    "                min_idx = j\n",
    "        arr[i],arr[min_idx] = arr[min_idx],arr[i]\n",
    "    return arr\n",
    "# arr = [2, 3, -8, 7, -1, 2, 3]\n",
    "arr = [5, 9, 1, 75, 101, 233]\n",
    "sort_array(arr)"
   ]
  },
  {
   "cell_type": "code",
   "execution_count": 1,
   "metadata": {},
   "outputs": [
    {
     "data": {
      "text/plain": [
       "(8, [1, 2, 5])"
      ]
     },
     "execution_count": 1,
     "metadata": {},
     "output_type": "execute_result"
    }
   ],
   "source": [
    "#Contingues array/Kadane's algo\n",
    "def max_sum_array(arr):\n",
    "    max_sum = float('-inf')\n",
    "    res = []\n",
    "    for i in range(len(arr)):\n",
    "        temp = 0\n",
    "        for j in range(i,len(arr)):\n",
    "            temp = temp + arr[j]\n",
    "            if temp > max_sum:\n",
    "                max_sum = temp\n",
    "                res.append(arr[j])\n",
    "    return max_sum,res\n",
    "arr = [ 1, 2, 5, -7, 2, 5 ]\n",
    "# arr = [ 0, 0, -1, 0]\n",
    "max_sum_array(arr)"
   ]
  },
  {
   "cell_type": "code",
   "execution_count": null,
   "metadata": {},
   "outputs": [
    {
     "data": {
      "text/plain": [
       "5"
      ]
     },
     "execution_count": 15,
     "metadata": {},
     "output_type": "execute_result"
    }
   ],
   "source": [
    "def sellStock(arr):\n",
    "    max = float('-inf')\n",
    "    for i in range(len(arr)):\n",
    "        for j in range(i+1,len(arr)):\n",
    "            max_as_now = arr[j] - arr[i]\n",
    "            if max_as_now > max:\n",
    "                max = max_as_now\n",
    "    return max\n",
    "arr = [7,1,5,3,6,4]\n",
    "sellStock(arr)"
   ]
  },
  {
   "cell_type": "code",
   "execution_count": 2,
   "metadata": {},
   "outputs": [
    {
     "data": {
      "text/plain": [
       "6"
      ]
     },
     "execution_count": 2,
     "metadata": {},
     "output_type": "execute_result"
    }
   ],
   "source": [
    "def most_water(arr):\n",
    "    max_of_num = float('-inf')\n",
    "    for i in range(len(arr)):\n",
    "        for j in range(i+1,len(arr)):\n",
    "            temp = max(max_of_num,((j-i)*min(arr[i],arr[j])))\n",
    "            if temp > max_of_num:\n",
    "                max_of_num = temp\n",
    "    return max_of_num\n",
    "arr =  [1, 5, 4, 3]\n",
    "most_water(arr)"
   ]
  },
  {
   "cell_type": "code",
   "execution_count": 26,
   "metadata": {},
   "outputs": [],
   "source": [
    "str1 = \"abababa\"\n",
    "str2 = \"ab\"\n",
    "str3 = \"ba\""
   ]
  },
  {
   "cell_type": "code",
   "execution_count": 23,
   "metadata": {},
   "outputs": [
    {
     "data": {
      "text/plain": [
       "'abababa'"
      ]
     },
     "execution_count": 23,
     "metadata": {},
     "output_type": "execute_result"
    }
   ],
   "source": [
    "str2+str3[::-1]+str3[-1] + str3"
   ]
  },
  {
   "cell_type": "code",
   "execution_count": 44,
   "metadata": {},
   "outputs": [
    {
     "name": "stdout",
     "output_type": "stream",
     "text": [
      "fedcba\n"
     ]
    }
   ],
   "source": [
    "str1 = \"abcdef\"\n",
    "slice_result = str1[::-1]\n",
    "print(slice_result)\n"
   ]
  },
  {
   "cell_type": "code",
   "execution_count": 31,
   "metadata": {},
   "outputs": [
    {
     "data": {
      "text/plain": [
       "'ba'"
      ]
     },
     "execution_count": 31,
     "metadata": {},
     "output_type": "execute_result"
    }
   ],
   "source": [
    "str1[1:3:1]"
   ]
  },
  {
   "cell_type": "code",
   "execution_count": 21,
   "metadata": {},
   "outputs": [
    {
     "data": {
      "text/plain": [
       "'a'"
      ]
     },
     "execution_count": 21,
     "metadata": {},
     "output_type": "execute_result"
    }
   ],
   "source": [
    "str3[-1]"
   ]
  },
  {
   "cell_type": "code",
   "execution_count": null,
   "metadata": {},
   "outputs": [
    {
     "data": {
      "text/plain": [
       "'ab'"
      ]
     },
     "execution_count": 20,
     "metadata": {},
     "output_type": "execute_result"
    }
   ],
   "source": [
    "(str2,str3[::-1])"
   ]
  },
  {
   "cell_type": "code",
   "execution_count": null,
   "metadata": {},
   "outputs": [],
   "source": [
    "a = set()\n",
    "a.add(str2)\n",
    "a.add(str3)"
   ]
  },
  {
   "cell_type": "code",
   "execution_count": null,
   "metadata": {},
   "outputs": [
    {
     "name": "stdout",
     "output_type": "stream",
     "text": [
      "The second largest number is: 45\n"
     ]
    }
   ],
   "source": [
    "def find_second_largest(numbers):\n",
    "    largest = second_largest = float('-inf')\n",
    "\n",
    "    for num in numbers:\n",
    "        if num > largest:\n",
    "            second_largest = largest\n",
    "            largest = num\n",
    "        elif num > second_largest and num != largest:\n",
    "            second_largest = num\n",
    "    return second_largest\n",
    "\n",
    "# Example usage\n",
    "numbers = [10, 20, 4, 45, 99]\n",
    "second_largest = find_second_largest(numbers)\n",
    "print(\"The second largest number is:\", second_largest)"
   ]
  },
  {
   "cell_type": "code",
   "execution_count": null,
   "metadata": {},
   "outputs": [
    {
     "name": "stdout",
     "output_type": "stream",
     "text": [
      "10\n"
     ]
    }
   ],
   "source": [
    "def second_minimum(lst):\n",
    "    # Check if the list has fewer than 2 elements\n",
    "    if len(lst) < 2:\n",
    "        return None\n",
    "    \n",
    "    # Initialize two variables to track the smallest and second smallest\n",
    "    min_val = float('inf')  # Start with a very large value\n",
    "    second_min_val = float('inf')\n",
    "    \n",
    "    # Iterate through the list\n",
    "    for num in lst:\n",
    "        # Update the smallest and second smallest values\n",
    "        if num < min_val:\n",
    "            second_min_val = min_val  # Update second smallest\n",
    "            min_val = num  # Update smallest\n",
    "        elif num < second_min_val and num != min_val:\n",
    "            second_min_val = num  # Update second smallest\n",
    "\n",
    "    # If second_min_val is still infinity, there is no second minimum\n",
    "    if second_min_val == float('inf'):\n",
    "        return None\n",
    "    \n",
    "    return second_min_val\n",
    "\n",
    "# Example usage\n",
    "# lst = [4, 1, 7, 3, 1, 9, 3]\n",
    "lst = [10, 20, 4, 45, 99]\n",
    "result = second_minimum(lst)\n",
    "print(result)  # Output will be 3"
   ]
  },
  {
   "cell_type": "code",
   "execution_count": 15,
   "metadata": {},
   "outputs": [
    {
     "name": "stdout",
     "output_type": "stream",
     "text": [
      "10\n"
     ]
    }
   ],
   "source": [
    "def second_minimum(lst):\n",
    "    minimum = float('inf')\n",
    "    secondmin = float('inf')\n",
    "    for num in lst:\n",
    "        if minimum > num:\n",
    "            secondmin = minimum\n",
    "            minimum = num\n",
    "        elif secondmin > num and num != minimum:\n",
    "            secondmin = num\n",
    "    return secondmin\n",
    "lst = [10, 20, 4, 45, 99]\n",
    "result = second_minimum(lst)\n",
    "print(result)"
   ]
  },
  {
   "cell_type": "code",
   "execution_count": 16,
   "metadata": {},
   "outputs": [],
   "source": [
    "import pandas as pd\n",
    "df = pd.DataFrame({\n",
    "    'A': [1, 2, 3, 4],\n",
    "    'B': [5, 6, 7, 8]\n",
    "})"
   ]
  },
  {
   "cell_type": "code",
   "execution_count": 17,
   "metadata": {},
   "outputs": [],
   "source": [
    "df['A_square'] = df['A'].apply(lambda x: x ** 2)"
   ]
  },
  {
   "cell_type": "code",
   "execution_count": 18,
   "metadata": {},
   "outputs": [
    {
     "data": {
      "text/html": [
       "<div>\n",
       "<style scoped>\n",
       "    .dataframe tbody tr th:only-of-type {\n",
       "        vertical-align: middle;\n",
       "    }\n",
       "\n",
       "    .dataframe tbody tr th {\n",
       "        vertical-align: top;\n",
       "    }\n",
       "\n",
       "    .dataframe thead th {\n",
       "        text-align: right;\n",
       "    }\n",
       "</style>\n",
       "<table border=\"1\" class=\"dataframe\">\n",
       "  <thead>\n",
       "    <tr style=\"text-align: right;\">\n",
       "      <th></th>\n",
       "      <th>A</th>\n",
       "      <th>B</th>\n",
       "      <th>A_square</th>\n",
       "    </tr>\n",
       "  </thead>\n",
       "  <tbody>\n",
       "    <tr>\n",
       "      <th>0</th>\n",
       "      <td>1</td>\n",
       "      <td>5</td>\n",
       "      <td>1</td>\n",
       "    </tr>\n",
       "    <tr>\n",
       "      <th>1</th>\n",
       "      <td>2</td>\n",
       "      <td>6</td>\n",
       "      <td>4</td>\n",
       "    </tr>\n",
       "    <tr>\n",
       "      <th>2</th>\n",
       "      <td>3</td>\n",
       "      <td>7</td>\n",
       "      <td>9</td>\n",
       "    </tr>\n",
       "    <tr>\n",
       "      <th>3</th>\n",
       "      <td>4</td>\n",
       "      <td>8</td>\n",
       "      <td>16</td>\n",
       "    </tr>\n",
       "  </tbody>\n",
       "</table>\n",
       "</div>"
      ],
      "text/plain": [
       "   A  B  A_square\n",
       "0  1  5         1\n",
       "1  2  6         4\n",
       "2  3  7         9\n",
       "3  4  8        16"
      ]
     },
     "execution_count": 18,
     "metadata": {},
     "output_type": "execute_result"
    }
   ],
   "source": [
    "df"
   ]
  },
  {
   "cell_type": "code",
   "execution_count": 19,
   "metadata": {},
   "outputs": [],
   "source": [
    "df['condition'] = df['A'].apply(lambda x: True if x%x == 0 else False)"
   ]
  },
  {
   "cell_type": "code",
   "execution_count": 20,
   "metadata": {},
   "outputs": [
    {
     "data": {
      "text/html": [
       "<div>\n",
       "<style scoped>\n",
       "    .dataframe tbody tr th:only-of-type {\n",
       "        vertical-align: middle;\n",
       "    }\n",
       "\n",
       "    .dataframe tbody tr th {\n",
       "        vertical-align: top;\n",
       "    }\n",
       "\n",
       "    .dataframe thead th {\n",
       "        text-align: right;\n",
       "    }\n",
       "</style>\n",
       "<table border=\"1\" class=\"dataframe\">\n",
       "  <thead>\n",
       "    <tr style=\"text-align: right;\">\n",
       "      <th></th>\n",
       "      <th>A</th>\n",
       "      <th>B</th>\n",
       "      <th>A_square</th>\n",
       "      <th>condition</th>\n",
       "    </tr>\n",
       "  </thead>\n",
       "  <tbody>\n",
       "    <tr>\n",
       "      <th>0</th>\n",
       "      <td>1</td>\n",
       "      <td>5</td>\n",
       "      <td>1</td>\n",
       "      <td>True</td>\n",
       "    </tr>\n",
       "    <tr>\n",
       "      <th>1</th>\n",
       "      <td>2</td>\n",
       "      <td>6</td>\n",
       "      <td>4</td>\n",
       "      <td>True</td>\n",
       "    </tr>\n",
       "    <tr>\n",
       "      <th>2</th>\n",
       "      <td>3</td>\n",
       "      <td>7</td>\n",
       "      <td>9</td>\n",
       "      <td>True</td>\n",
       "    </tr>\n",
       "    <tr>\n",
       "      <th>3</th>\n",
       "      <td>4</td>\n",
       "      <td>8</td>\n",
       "      <td>16</td>\n",
       "      <td>True</td>\n",
       "    </tr>\n",
       "  </tbody>\n",
       "</table>\n",
       "</div>"
      ],
      "text/plain": [
       "   A  B  A_square  condition\n",
       "0  1  5         1       True\n",
       "1  2  6         4       True\n",
       "2  3  7         9       True\n",
       "3  4  8        16       True"
      ]
     },
     "execution_count": 20,
     "metadata": {},
     "output_type": "execute_result"
    }
   ],
   "source": [
    "df"
   ]
  },
  {
   "cell_type": "code",
   "execution_count": 21,
   "metadata": {},
   "outputs": [
    {
     "name": "stdout",
     "output_type": "stream",
     "text": [
      "before 1 6\n",
      "after 6 1\n",
      "before 2 5\n",
      "after 5 2\n",
      "before 3 4\n",
      "after 4 3\n",
      "[6, 5, 4, 3, 2, 1]\n"
     ]
    }
   ],
   "source": [
    "# Rreverse the array\n",
    "\n",
    "def reverse_array(arr):\n",
    "    for i in range(len(arr)//2):\n",
    "        print(\"before\",arr[i],arr[len(arr)-i-1])\n",
    "        arr[i],arr[len(arr)-i-1] = arr[len(arr)-i-1],arr[i]\n",
    "        print(\"after\",arr[i],arr[len(arr)-i-1])\n",
    "    return arr\n",
    "arr = [1,2,3,4,5,6]\n",
    "print(reverse_array(arr))"
   ]
  },
  {
   "cell_type": "code",
   "execution_count": 31,
   "metadata": {},
   "outputs": [
    {
     "data": {
      "text/plain": [
       "[6, 5, 4, 3, 2, 1]"
      ]
     },
     "execution_count": 31,
     "metadata": {},
     "output_type": "execute_result"
    }
   ],
   "source": [
    "def reverse(arr):\n",
    "    for i in range(len(arr)//2):\n",
    "        arr[i],arr[len(arr)-i-1] = arr[len(arr)-i-1],arr[i]\n",
    "    return arr\n",
    "arr = [1,2,3,4,5,6]\n",
    "reverse(arr)"
   ]
  },
  {
   "cell_type": "code",
   "execution_count": 80,
   "metadata": {},
   "outputs": [
    {
     "name": "stdout",
     "output_type": "stream",
     "text": [
      "[6, 5, 4, 3, 2, 1]\n"
     ]
    }
   ],
   "source": [
    "def reverse_arr(arr):\n",
    "    start = 0\n",
    "    end = len(arr)-1\n",
    "    while start < end:\n",
    "        arr[start],arr[end] = arr[end],arr[start]\n",
    "        start += 1\n",
    "        end -= 1\n",
    "    return arr\n",
    "arr = [1,2,3,4,5,6]\n",
    "result = reverse_arr(arr)\n",
    "print(result)"
   ]
  },
  {
   "cell_type": "code",
   "execution_count": 1,
   "metadata": {},
   "outputs": [
    {
     "name": "stdout",
     "output_type": "stream",
     "text": [
      "True\n",
      "False\n"
     ]
    }
   ],
   "source": [
    "def is_palindrome(s):\n",
    "    s = ''.join(e for e in s if e.isalnum()).lower()  # Remove non-alphanumeric and convert to lowercase\n",
    "    return s == s[::-1]\n",
    "\n",
    "print(is_palindrome(\"A man, a plan, a canal: Panama\"))  # Output: True\n",
    "print(is_palindrome(\"hello\"))  # Output: False"
   ]
  },
  {
   "cell_type": "code",
   "execution_count": 2,
   "metadata": {},
   "outputs": [
    {
     "data": {
      "text/plain": [
       "'amanaplanacanalpanama'"
      ]
     },
     "execution_count": 2,
     "metadata": {},
     "output_type": "execute_result"
    }
   ],
   "source": [
    "s = \"A man, a plan, a canal: Panama\"\n",
    "s = ''.join(e for e in s if e.isalnum()).lower()\n",
    "s"
   ]
  },
  {
   "cell_type": "code",
   "execution_count": null,
   "metadata": {},
   "outputs": [
    {
     "data": {
      "text/plain": [
       "'amanaplanacanalpanama'"
      ]
     },
     "execution_count": 5,
     "metadata": {},
     "output_type": "execute_result"
    }
   ],
   "source": [
    "s = \"A man, a plan, a canal: Panama\"\n",
    "p = ''\n",
    "for e in s:\n",
    "    if e.isalnum():\n",
    "        p = p+e.lower()"
   ]
  },
  {
   "cell_type": "code",
   "execution_count": 1,
   "metadata": {},
   "outputs": [
    {
     "name": "stdout",
     "output_type": "stream",
     "text": [
      "Hello Hows everything going Python 2024\n"
     ]
    }
   ],
   "source": [
    "import re\n",
    "\n",
    "text = \"Hello! How's everything going? #Python @2024\"\n",
    "clean_text = re.sub(r'[^A-Za-z0-9 ]+', '', text)  # Removes special characters except spaces\n",
    "print(clean_text)\n"
   ]
  },
  {
   "cell_type": "code",
   "execution_count": 5,
   "metadata": {},
   "outputs": [
    {
     "name": "stdout",
     "output_type": "stream",
     "text": [
      "0 1 1 2 3 5 8 13 21 34 "
     ]
    }
   ],
   "source": [
    "def Fibonacci_series(n):\n",
    "    # Function to get nth Fibonacci number\n",
    "    def Fibonacci(num):\n",
    "        if num <= 0:\n",
    "            return 0\n",
    "        elif num == 1 or num == 2:\n",
    "            return 1\n",
    "        else:\n",
    "            return Fibonacci(num - 1) + Fibonacci(num - 2)\n",
    "\n",
    "    # Print the series\n",
    "    for i in range(n):\n",
    "        print(Fibonacci(i), end=\" \")\n",
    "\n",
    "# Driver Code\n",
    "Fibonacci_series(10)"
   ]
  },
  {
   "cell_type": "code",
   "execution_count": 2,
   "metadata": {},
   "outputs": [
    {
     "name": "stdout",
     "output_type": "stream",
     "text": [
      "a\n",
      "bc\n",
      "def\n",
      "ghij\n"
     ]
    }
   ],
   "source": [
    "lst = [\"a\",\"b\",\"c\",\"d\",\"e\",\"f\",\"g\",\"h\",\"i\",\"j\"]\n",
    "# question : print the alphabets in this way\n",
    "# a  - 0\n",
    "# bc - 1:3\n",
    "# def  - 3:6\n",
    "# ghij - 6:\n",
    "count = 0\n",
    "for i in range(len(lst)):\n",
    "    if count == 0:\n",
    "        print(lst[i])\n",
    "        count += 1\n",
    "    elif count == 1:\n",
    "        print(lst[i] + lst[i+count])\n",
    "        count +=1\n",
    "    elif count == 2:\n",
    "        print(lst[i+count-1] + lst[i+count] + lst[i+count+1])\n",
    "        count +=1\n",
    "        # print(\"count\",count)\n",
    "    elif count == 3 and i < len(lst)-(2*count):\n",
    "        # print(i+4)\n",
    "        print(lst[i+count] + lst[i+count+1] + lst[i+count+2] + lst[i+count+3])\n",
    "\n",
    "# 1,3,6,11"
   ]
  },
  {
   "cell_type": "code",
   "execution_count": null,
   "metadata": {},
   "outputs": [],
   "source": []
  }
 ],
 "metadata": {
  "kernelspec": {
   "display_name": "Python 3",
   "language": "python",
   "name": "python3"
  },
  "language_info": {
   "codemirror_mode": {
    "name": "ipython",
    "version": 3
   },
   "file_extension": ".py",
   "mimetype": "text/x-python",
   "name": "python",
   "nbconvert_exporter": "python",
   "pygments_lexer": "ipython3",
   "version": "3.10.2"
  }
 },
 "nbformat": 4,
 "nbformat_minor": 2
}
