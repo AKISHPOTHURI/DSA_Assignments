{
 "cells": [
  {
   "cell_type": "markdown",
   "metadata": {},
   "source": [
    "- Given an array arr[] of n integers, construct a Product Array prod[] (of the same size) such that prod[i] is equal to the product of all the elements of arr[] except arr[i]. \n",
    "\n",
    "Note: Solve it without the division operator in O(n) time.\n",
    "\n",
    "- idea solution\n",
    "Ex - arr = [1,2,3,4]\n",
    "\n",
    "prefix - [1,2,6,24] \n",
    "\n",
    "postfix - [24,24,12,4]\n",
    "\n",
    "last array - 1x24,1x12,2x4,6x1 = [24,12,8,6]"
   ]
  },
  {
   "cell_type": "code",
   "execution_count": 15,
   "metadata": {},
   "outputs": [
    {
     "name": "stdout",
     "output_type": "stream",
     "text": [
      "The product array is:\n",
      "[24, 12, 8, 6]\n"
     ]
    }
   ],
   "source": [
    "from typing import List\n",
    "\n",
    "class product:\n",
    "    def __init__(self) -> None:\n",
    "        pass\n",
    "    def productExceptSelf(self,nums: List[int]) -> List[int]:\n",
    "        res = [1] * (len(nums))\n",
    "        prefix = 1\n",
    "        for i in range(len(nums)):\n",
    "            res[i] = prefix\n",
    "            prefix *= nums[i]\n",
    "        postfix = 1\n",
    "        for i in range(len(nums) - 1, -1,-1):\n",
    "            res[i] *= postfix\n",
    "            postfix *= nums[i]\n",
    "        return res\n",
    "\n",
    "if __name__=='__main__':\n",
    "    # Driver code \n",
    "    arr = [1,2,3,4] \n",
    "    n = len(arr)\n",
    "    product = product() \n",
    "    print(\"The product array is:\") \n",
    "    result = product.productExceptSelf(arr)\n",
    "    print(result)"
   ]
  },
  {
   "cell_type": "code",
   "execution_count": 7,
   "metadata": {},
   "outputs": [],
   "source": [
    "res = [1] * (len([180, 600, 360, 300, 900]))"
   ]
  },
  {
   "cell_type": "markdown",
   "metadata": {},
   "source": [
    "- Largest Sum Contiguous Subarray (Kadane’s Algorithm)\n",
    "\n",
    "Given an array arr[] of size N. The task is to find the sum of the contiguous subarray within a arr[] with the largest sum. "
   ]
  },
  {
   "cell_type": "code",
   "execution_count": 18,
   "metadata": {},
   "outputs": [
    {
     "name": "stdout",
     "output_type": "stream",
     "text": [
      "max_so_far -inf\n",
      "Maximum contiguous sum is 7\n"
     ]
    }
   ],
   "source": [
    "def GFG(a, size):\n",
    "    max_so_far = float('-inf')  #float('inf') is the less than any other value\n",
    "    # Use float('-inf') instead of maxint\n",
    "    max_ending_here = 0\n",
    "    for i in range(0, size):\n",
    "        max_ending_here = max_ending_here + a[i]\n",
    "        if max_so_far < max_ending_here:\n",
    "            max_so_far = max_ending_here\n",
    "        if max_ending_here < 0:\n",
    "            max_ending_here = 0\n",
    "    return max_so_far\n",
    "# Driver function to check the above function\n",
    "a = [-2, -3, 4, -1, -2, 1, 5, -3]\n",
    "print(\"Maximum contiguous sum is\", GFG(a, len(a)))"
   ]
  },
  {
   "cell_type": "code",
   "execution_count": 21,
   "metadata": {},
   "outputs": [
    {
     "name": "stdout",
     "output_type": "stream",
     "text": [
      "The contingous max element:  7\n"
     ]
    }
   ],
   "source": [
    "def ContingousSubArray(arr):\n",
    "    global_max = float('-inf')\n",
    "    max_so_far = 0\n",
    "    for i in range(len(arr)):\n",
    "        max_so_far = max_so_far + arr[i]\n",
    "        if global_max < max_so_far:\n",
    "            global_max = max_so_far\n",
    "        if max_so_far < 0:\n",
    "            max_so_far = 0\n",
    "    return global_max\n",
    "abc = ContingousSubArray([-2, -3, 4, -1, -2, 1, 5, -3])\n",
    "print('The contingous max element: ',abc)"
   ]
  },
  {
   "cell_type": "markdown",
   "metadata": {},
   "source": [
    "- Maximum Product Subarray\n",
    "\n",
    "Given an array that contains both positive and negative integers, the task is to find the product of the maximum product subarray. \n",
    "\n"
   ]
  },
  {
   "cell_type": "code",
   "execution_count": 25,
   "metadata": {},
   "outputs": [],
   "source": [
    "del max"
   ]
  },
  {
   "cell_type": "code",
   "execution_count": 27,
   "metadata": {},
   "outputs": [
    {
     "name": "stdout",
     "output_type": "stream",
     "text": [
      "The max sub array:  112\n"
     ]
    }
   ],
   "source": [
    "def subArrayProduct(arr: List[int]) -> int:\n",
    "    max_here = arr[0]\n",
    "    min_here = arr[0]\n",
    "    max_so_far = arr[0]\n",
    "    for i in range(len(arr)):\n",
    "        temp = max(max(arr[i],arr[i]*max_here),arr[i]*min_here)\n",
    "        min_here = min(min(arr[i],arr[i]*max_here),arr[i]*min_here)\n",
    "        max_here = temp\n",
    "        max_so_far = max(min_here,max_here)\n",
    "    return max_so_far\n",
    "result = subArrayProduct([1, -2, -3, 0, 7, -8, -2])\n",
    "print(\"The max sub array: \",result)"
   ]
  },
  {
   "cell_type": "code",
   "execution_count": null,
   "metadata": {},
   "outputs": [],
   "source": []
  }
 ],
 "metadata": {
  "kernelspec": {
   "display_name": "tribe",
   "language": "python",
   "name": "python3"
  },
  "language_info": {
   "codemirror_mode": {
    "name": "ipython",
    "version": 3
   },
   "file_extension": ".py",
   "mimetype": "text/x-python",
   "name": "python",
   "nbconvert_exporter": "python",
   "pygments_lexer": "ipython3",
   "version": "3.10.2"
  }
 },
 "nbformat": 4,
 "nbformat_minor": 2
}
