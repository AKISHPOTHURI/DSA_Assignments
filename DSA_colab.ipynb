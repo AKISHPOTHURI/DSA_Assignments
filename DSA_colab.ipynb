{
  "cells": [
    {
      "cell_type": "markdown",
      "metadata": {
        "id": "aDyHnqhxa0Y2"
      },
      "source": [
        "- Given an array arr[] of n integers, construct a Product Array prod[] (of the same size) such that prod[i] is equal to the product of all the elements of arr[] except arr[i].\n",
        "\n",
        "Note: Solve it without the division operator in O(n) time.\n",
        "\n",
        "- idea solution\n",
        "Ex - arr = [1,2,3,4]\n",
        "\n",
        "prefix - [1,2,6,24]\n",
        "\n",
        "postfix - [24,24,12,4]\n",
        "\n",
        "last array - 1x24,1x12,2x4,6x1 = [24,12,8,6]"
      ]
    },
    {
      "cell_type": "code",
      "execution_count": null,
      "metadata": {
        "id": "3IU02Hlya0Y5",
        "outputId": "34442f78-f90c-40fb-b57f-bf25ca56fe9c"
      },
      "outputs": [
        {
          "name": "stdout",
          "output_type": "stream",
          "text": [
            "The product array is:\n",
            "[24, 12, 8, 6]\n"
          ]
        }
      ],
      "source": [
        "from typing import List\n",
        "\n",
        "class product:\n",
        "    def __init__(self) -> None:\n",
        "        pass\n",
        "    def productExceptSelf(self,nums: List[int]) -> List[int]:\n",
        "        res = [1] * (len(nums))\n",
        "        prefix = 1\n",
        "        for i in range(len(nums)):\n",
        "            res[i] = prefix\n",
        "            prefix *= nums[i]\n",
        "        postfix = 1\n",
        "        for i in range(len(nums) - 1, -1,-1):\n",
        "            res[i] *= postfix\n",
        "            postfix *= nums[i]\n",
        "        return res\n",
        "\n",
        "if __name__=='__main__':\n",
        "    # Driver code\n",
        "    arr = [1,2,3,4]\n",
        "    n = len(arr)\n",
        "    product = product()\n",
        "    print(\"The product array is:\")\n",
        "    result = product.productExceptSelf(arr)\n",
        "    print(result)"
      ]
    },
    {
      "cell_type": "code",
      "execution_count": null,
      "metadata": {
        "id": "or_AdsoOa0Y7"
      },
      "outputs": [],
      "source": [
        "res = [1] * (len([180, 600, 360, 300, 900]))"
      ]
    },
    {
      "cell_type": "markdown",
      "metadata": {
        "id": "5kNYp5gta0Y8"
      },
      "source": [
        "- Largest Sum Contiguous Subarray (Kadane’s Algorithm)\n",
        "\n",
        "Given an array arr[] of size N. The task is to find the sum of the contiguous subarray within a arr[] with the largest sum."
      ]
    },
    {
      "cell_type": "code",
      "execution_count": null,
      "metadata": {
        "id": "CpP7m9b1a0Y9",
        "outputId": "21daf394-0610-49bd-f1bc-5fa851ae8de1"
      },
      "outputs": [
        {
          "name": "stdout",
          "output_type": "stream",
          "text": [
            "max_so_far -inf\n",
            "Maximum contiguous sum is 7\n"
          ]
        }
      ],
      "source": [
        "def GFG(a, size):\n",
        "    max_so_far = float('-inf')  #float('inf') is the less than any other value\n",
        "    # Use float('-inf') instead of maxint\n",
        "    max_ending_here = 0\n",
        "    for i in range(0, size):\n",
        "        max_ending_here = max_ending_here + a[i]\n",
        "        if max_so_far < max_ending_here:\n",
        "            max_so_far = max_ending_here\n",
        "        if max_ending_here < 0:\n",
        "            max_ending_here = 0\n",
        "    return max_so_far\n",
        "# Driver function to check the above function\n",
        "a = [-2, -3, 4, -1, -2, 1, 5, -3]\n",
        "print(\"Maximum contiguous sum is\", GFG(a, len(a)))"
      ]
    },
    {
      "cell_type": "code",
      "execution_count": null,
      "metadata": {
        "id": "QhwH-mTXa0Y9",
        "outputId": "2a26c43d-1db5-4da4-a282-db0060864618"
      },
      "outputs": [
        {
          "name": "stdout",
          "output_type": "stream",
          "text": [
            "The contingous max element:  7\n"
          ]
        }
      ],
      "source": [
        "def ContingousSubArray(arr):\n",
        "    global_max = float('-inf')\n",
        "    max_so_far = 0\n",
        "    for i in range(len(arr)):\n",
        "        max_so_far = max_so_far + arr[i]\n",
        "        if global_max < max_so_far:\n",
        "            global_max = max_so_far\n",
        "        if max_so_far < 0:\n",
        "            max_so_far = 0\n",
        "    return global_max\n",
        "abc = ContingousSubArray([-2, -3, 4, -1, -2, 1, 5, -3])\n",
        "print('The contingous max element: ',abc)"
      ]
    },
    {
      "cell_type": "markdown",
      "metadata": {
        "id": "7QSs38Gha0Y9"
      },
      "source": [
        "- Maximum Product Subarray\n",
        "\n",
        "Given an array that contains both positive and negative integers, the task is to find the product of the maximum product subarray.\n",
        "\n"
      ]
    },
    {
      "cell_type": "code",
      "execution_count": null,
      "metadata": {
        "id": "1CVR_3vqa0Y-"
      },
      "outputs": [],
      "source": [
        "del max"
      ]
    },
    {
      "cell_type": "code",
      "execution_count": null,
      "metadata": {
        "id": "Wb9SBaMza0Y-",
        "outputId": "b8430808-eb43-4d1c-8647-f69959ef256c"
      },
      "outputs": [
        {
          "name": "stdout",
          "output_type": "stream",
          "text": [
            "The max sub array:  112\n"
          ]
        }
      ],
      "source": [
        "def subArrayProduct(arr: List[int]) -> int:\n",
        "    max_here = arr[0]\n",
        "    min_here = arr[0]\n",
        "    max_so_far = arr[0]\n",
        "    for i in range(len(arr)):\n",
        "        temp = max(max(arr[i],arr[i]*max_here),arr[i]*min_here)\n",
        "        min_here = min(min(arr[i],arr[i]*max_here),arr[i]*min_here)\n",
        "        max_here = temp\n",
        "        max_so_far = max(min_here,max_here)\n",
        "    return max_so_far\n",
        "result = subArrayProduct([1, -2, -3, 0, 7, -8, -2])\n",
        "print(\"The max sub array: \",result)"
      ]
    },
    {
      "cell_type": "code",
      "source": [
        "#Selection Sort\n",
        "class Solution:\n",
        "    # def select(self, arr, i):\n",
        "        # code here\n",
        "\n",
        "    def selectionSort(self, arr,n):\n",
        "        #code here\n",
        "        for i in range(n):\n",
        "            min = i\n",
        "            for j in range(i+1,n):\n",
        "                if arr[min] > arr[j]:\n",
        "                    min = j\n",
        "            arr[min],arr[i] = arr[i],arr[min]\n",
        "        return arr"
      ],
      "metadata": {
        "id": "pX-Rk3uLR8X5"
      },
      "execution_count": null,
      "outputs": []
    },
    {
      "cell_type": "code",
      "source": [
        "#Bubble Sort\n",
        "class Solution:\n",
        "    #Function to sort the array using bubble sort algorithm.\n",
        "    def bubbleSort(self,arr, n):\n",
        "        # code here\n",
        "        for i in range(n-1):\n",
        "            for j in range(n-i-1):\n",
        "                if arr[j] > arr[j+1]:\n",
        "                    arr[j],arr[j+1] = arr[j+1],arr[j]\n",
        "        return arr"
      ],
      "metadata": {
        "id": "5gJYJA0hKDh0"
      },
      "execution_count": null,
      "outputs": []
    },
    {
      "cell_type": "code",
      "source": [
        "Stock_Price = [7,1,5,3,6,4,15]\n",
        "#Stock_Price[i] - min\n",
        "def max_Profit(Stock_Price):\n",
        "  min = float('inf')\n",
        "  max = 0\n",
        "  for i in range(len(Stock_Price)):\n",
        "    if Stock_Price[i] < min:\n",
        "      min = Stock_Price[i]\n",
        "    elif Stock_Price[i] - min > max:\n",
        "      max = Stock_Price[i] - min\n",
        "  return max\n",
        "\n",
        "print(\"Max profit the list of prices is: \", max_Profit(Stock_Price))"
      ],
      "metadata": {
        "colab": {
          "base_uri": "https://localhost:8080/"
        },
        "id": "jC1sz6j2KG1y",
        "outputId": "dc62e911-7fc4-4b66-ec3c-89328707316d"
      },
      "execution_count": null,
      "outputs": [
        {
          "output_type": "stream",
          "name": "stdout",
          "text": [
            "Max profit the list of prices is:  14\n"
          ]
        }
      ]
    },
    {
      "cell_type": "code",
      "source": [
        "def find_majority_element(arr):\n",
        "    # Find frequencies\n",
        "    mp = {}\n",
        "    max_value = 0\n",
        "    result = -1\n",
        "    for num in arr:\n",
        "        mp[num] = mp.get(num, 0) + 1\n",
        "\n",
        "  # Find the Max Frequency\n",
        "    for key,value in mp.items():\n",
        "      if value > max_value:\n",
        "        max_value = value\n",
        "        result = key\n",
        "    if max_value >= len(arr)//2:\n",
        "      print('{0} has the majority value. The value is {1} '.format(result,max_value))\n",
        "\n",
        "if __name__ == \"__main__\":\n",
        "    arr = [2,1,1,2,1,3]  # Example input using list\n",
        "    find_majority_element(arr)"
      ],
      "metadata": {
        "colab": {
          "base_uri": "https://localhost:8080/"
        },
        "id": "FHKmYHozUQVb",
        "outputId": "679faada-0c17-409d-892a-e3918a2eeac8"
      },
      "execution_count": null,
      "outputs": [
        {
          "output_type": "stream",
          "name": "stdout",
          "text": [
            "1 has the majority value. The value is 3 \n"
          ]
        }
      ]
    },
    {
      "cell_type": "code",
      "source": [],
      "metadata": {
        "id": "1xV3pBzlWjUP"
      },
      "execution_count": null,
      "outputs": []
    }
  ],
  "metadata": {
    "kernelspec": {
      "display_name": "Python 3",
      "name": "python3"
    },
    "language_info": {
      "codemirror_mode": {
        "name": "ipython",
        "version": 3
      },
      "file_extension": ".py",
      "mimetype": "text/x-python",
      "name": "python",
      "nbconvert_exporter": "python",
      "pygments_lexer": "ipython3",
      "version": "3.10.2"
    },
    "colab": {
      "provenance": [],
      "gpuType": "T4"
    },
    "accelerator": "GPU"
  },
  "nbformat": 4,
  "nbformat_minor": 0
}